{
 "cells": [
  {
   "cell_type": "code",
   "execution_count": 1,
   "metadata": {},
   "outputs": [],
   "source": [
    "import numpy as np\n",
    "from Regression import Regression"
   ]
  },
  {
   "cell_type": "code",
   "execution_count": 2,
   "metadata": {},
   "outputs": [
    {
     "name": "stdout",
     "output_type": "stream",
     "text": [
      "(100, 10)\n",
      "(100, 1)\n",
      "(400, 10)\n",
      "(400, 1)\n"
     ]
    }
   ],
   "source": [
    "\"\"\"\n",
    "load data and preprocess\n",
    "\"\"\"\n",
    "# read data\n",
    "with open('hw3_train.dat', 'rb') as f:  \n",
    "    training_data = np.array([np.float64(i.split()) for i in f.readlines()])\n",
    "    \n",
    "# turn x and y into numpy array\n",
    "# x is the input feature vector space and y is the corresponding label\n",
    "x = np.array(training_data[:,0:10])\n",
    "y = np.reshape(np.array(list(map(int, training_data[:,10]))), (len(x), 1))\n",
    "print(x.shape)\n",
    "print(y.shape)\n",
    "\n",
    "N = len(x)\n",
    "\n",
    "with open('hw3_test.dat', 'rb') as f:  \n",
    "    test_data = np.array([np.float64(i.split()) for i in f.readlines()])\n",
    "    \n",
    "# turn x and y into numpy array\n",
    "# x is the input feature vector space and y is the corresponding label\n",
    "x_test = np.array(test_data[:,0:10])\n",
    "y_test = np.reshape(np.array(list(map(int, test_data[:,10]))), (len(x_test), 1))\n",
    "print(x_test.shape)\n",
    "print(y_test.shape)\n",
    "\n",
    "N = len(x)"
   ]
  },
  {
   "cell_type": "code",
   "execution_count": 3,
   "metadata": {},
   "outputs": [
    {
     "data": {
      "text/plain": [
       "0.7922347761105571"
      ]
     },
     "execution_count": 3,
     "metadata": {},
     "output_type": "execute_result"
    }
   ],
   "source": [
    "p13_kwargs = {\n",
    "    'algo': 'linear regression',    \n",
    "}\n",
    "\n",
    "p13 = Regression(**p13_kwargs).fit(x, y)\n",
    "p13_ans = p13.Ein\n",
    "p13_ans"
   ]
  },
  {
   "cell_type": "code",
   "execution_count": 4,
   "metadata": {},
   "outputs": [
    {
     "data": {
      "text/plain": [
       "0.8229484676966267"
      ]
     },
     "execution_count": 4,
     "metadata": {},
     "output_type": "execute_result"
    }
   ],
   "source": [
    "p14_kwargs = {\n",
    "    'algo': 'linear sgd',\n",
    "    'n_init': 1000,\n",
    "    'learning_rate': 0.001\n",
    "}\n",
    "p14 = Regression(**p14_kwargs).fit(x, y)\n",
    "p14_ans = np.mean(p14.Ein_linear_sgd)\n",
    "p14_ans"
   ]
  },
  {
   "cell_type": "code",
   "execution_count": 5,
   "metadata": {},
   "outputs": [
    {
     "data": {
      "text/plain": [
       "0.657143936490148"
      ]
     },
     "execution_count": 5,
     "metadata": {},
     "output_type": "execute_result"
    }
   ],
   "source": [
    "p15_kwargs = {\n",
    "    'algo': 'logistic sgd',\n",
    "    'n_init': 1000,\n",
    "    'learning_rate': 0.001\n",
    "}\n",
    "p15 = Regression(**p15_kwargs).fit(x, y)\n",
    "p15_ans = np.mean(p15.Ein_logistic_sgd)\n",
    "p15_ans"
   ]
  },
  {
   "cell_type": "code",
   "execution_count": 6,
   "metadata": {},
   "outputs": [
    {
     "data": {
      "text/plain": [
       "0.6052759638463251"
      ]
     },
     "execution_count": 6,
     "metadata": {},
     "output_type": "execute_result"
    }
   ],
   "source": [
    "p16_kwargs = {\n",
    "    'algo': 'logistic sgd wlin',\n",
    "    'n_init': 1000,\n",
    "    'learning_rate': 0.001,\n",
    "}\n",
    "p16 = Regression(**p16_kwargs).fit(x, y)\n",
    "p16_ans = np.mean(p16.Ein_logistic_sgd_wlin)\n",
    "p16_ans"
   ]
  },
  {
   "cell_type": "code",
   "execution_count": 7,
   "metadata": {},
   "outputs": [
    {
     "data": {
      "text/plain": [
       "0.030962500000000018"
      ]
     },
     "execution_count": 7,
     "metadata": {},
     "output_type": "execute_result"
    }
   ],
   "source": [
    "p17_kwargs = {\n",
    "    'n_init': 1000,\n",
    "    'learning_rate': 0.001,\n",
    "}\n",
    "p17 = Regression(**p17_kwargs).w800_ein_eout(x, y, x_test, y_test)\n",
    "p17_ans = np.mean(p17.ans17)\n",
    "p17_ans"
   ]
  },
  {
   "cell_type": "code",
   "execution_count": 8,
   "metadata": {},
   "outputs": [
    {
     "data": {
      "text/plain": [
       "0.040000000000000036"
      ]
     },
     "execution_count": 8,
     "metadata": {},
     "output_type": "execute_result"
    }
   ],
   "source": [
    "p18_kwargs = {\n",
    "    'learning_rate': 0.001\n",
    "}\n",
    "p18 = Regression(**p18_kwargs).wlin_ein_eout(x, y, x_test, y_test)\n",
    "p18_ans = np.mean(p18.ans18)\n",
    "p18_ans"
   ]
  },
  {
   "cell_type": "code",
   "execution_count": 9,
   "metadata": {},
   "outputs": [
    {
     "data": {
      "text/plain": [
       "0.08249999999999999"
      ]
     },
     "execution_count": 9,
     "metadata": {},
     "output_type": "execute_result"
    }
   ],
   "source": [
    "p19_kwargs = {\n",
    "    'Q': 2\n",
    "}\n",
    "p19 = Regression(**p19_kwargs).Q_ein_eout(x, y, x_test, y_test)\n",
    "p19_ans = p19.ans_last2\n",
    "p19_ans"
   ]
  },
  {
   "cell_type": "code",
   "execution_count": 10,
   "metadata": {},
   "outputs": [
    {
     "data": {
      "text/plain": [
       "0.415"
      ]
     },
     "execution_count": 10,
     "metadata": {},
     "output_type": "execute_result"
    }
   ],
   "source": [
    "p20_kwargs = {\n",
    "    'Q': 8\n",
    "}\n",
    "p20 = Regression(**p20_kwargs).Q_ein_eout(x, y, x_test, y_test)\n",
    "p20_ans = p20.ans_last2\n",
    "p20_ans"
   ]
  }
 ],
 "metadata": {
  "kernelspec": {
   "display_name": "base",
   "language": "python",
   "name": "python3"
  },
  "language_info": {
   "codemirror_mode": {
    "name": "ipython",
    "version": 3
   },
   "file_extension": ".py",
   "mimetype": "text/x-python",
   "name": "python",
   "nbconvert_exporter": "python",
   "pygments_lexer": "ipython3",
   "version": "3.9.13"
  },
  "orig_nbformat": 4
 },
 "nbformat": 4,
 "nbformat_minor": 2
}
