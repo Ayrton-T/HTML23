{
 "cells": [
  {
   "cell_type": "code",
   "execution_count": 1,
   "metadata": {},
   "outputs": [],
   "source": [
    "import numpy as np\n",
    "from libsvm.svmutil import *\n",
    "from AdaBoostStump import AdaBoostStump"
   ]
  },
  {
   "cell_type": "code",
   "execution_count": 2,
   "metadata": {},
   "outputs": [],
   "source": [
    "def label_transform(y, target_label):\n",
    "    return list(map(lambda x: 2*x-1, np.array(y) == target_label))"
   ]
  },
  {
   "cell_type": "code",
   "execution_count": 3,
   "metadata": {},
   "outputs": [],
   "source": [
    "y, x = svm_read_problem('./letter.scale.tr')\n",
    "y_test, x_test = svm_read_problem('./letter.scale.t')\n",
    "y, x = np.array(y), np.array(x)\n",
    "y_test, x_test = np.array(y_test), np.array(x_test)\n"
   ]
  },
  {
   "cell_type": "code",
   "execution_count": 4,
   "metadata": {},
   "outputs": [
    {
     "name": "stdout",
     "output_type": "stream",
     "text": [
      "404\n",
      "378\n"
     ]
    }
   ],
   "source": [
    "# find label 11 and label 26 index for training data\n",
    "label_11_idx = np.array(np.where(y == 11)).flatten()\n",
    "label_26_idx = np.array(np.where(y == 26)).flatten()\n",
    "print(len(label_11_idx))\n",
    "print(len(label_26_idx))\n",
    "idx = np.concatenate((label_11_idx, label_26_idx))\n",
    "\n",
    "x = x[idx]\n",
    "y = y[idx]\n",
    "\n",
    "temp = []\n",
    "for i in range(len(x)):\n",
    "    temp += [list(x[i].values())]\n",
    "    \n",
    "x = np.array(temp)\n",
    "y = np.array(label_transform(y, 11))\n",
    "\n",
    "# find label 11 and label 26 index for testing data\n",
    "label_11_idx = np.array(np.where(y_test == 11)).flatten()\n",
    "label_26_idx = np.array(np.where(y_test == 26)).flatten()\n",
    "idx = np.concatenate((label_11_idx, label_26_idx))\n",
    "\n",
    "x_test = x_test[idx]\n",
    "y_test = y_test[idx]\n",
    "\n",
    "temp = []\n",
    "for i in range(len(x_test)):\n",
    "    temp += [list(x_test[i].values())]\n",
    "    \n",
    "x_test = np.array(temp)\n",
    "y_test = np.array(label_transform(y_test, 11))"
   ]
  },
  {
   "cell_type": "code",
   "execution_count": 7,
   "metadata": {},
   "outputs": [],
   "source": [
    "\"\"\"\n",
    "Train AdaboostStump\n",
    "\"\"\"\n",
    "ada_model = AdaBoostStump(n_init=1000).fit(x, y)"
   ]
  },
  {
   "cell_type": "code",
   "execution_count": 8,
   "metadata": {},
   "outputs": [
    {
     "data": {
      "text/plain": [
       "0.09846547314578005"
      ]
     },
     "execution_count": 8,
     "metadata": {},
     "output_type": "execute_result"
    }
   ],
   "source": [
    "\"\"\"\n",
    "P17\n",
    "\"\"\"\n",
    "\n",
    "ada_model.min_g_error"
   ]
  },
  {
   "cell_type": "code",
   "execution_count": 9,
   "metadata": {},
   "outputs": [
    {
     "data": {
      "text/plain": [
       "0.571611253196931"
      ]
     },
     "execution_count": 9,
     "metadata": {},
     "output_type": "execute_result"
    }
   ],
   "source": [
    "\"\"\"\n",
    "P18\n",
    "\"\"\"\n",
    "ada_model.max_g_error"
   ]
  },
  {
   "cell_type": "code",
   "execution_count": 10,
   "metadata": {},
   "outputs": [
    {
     "data": {
      "text/plain": [
       "0.0"
      ]
     },
     "execution_count": 10,
     "metadata": {},
     "output_type": "execute_result"
    }
   ],
   "source": [
    "\"\"\"\n",
    "P19\n",
    "\"\"\"\n",
    "ada_model.big_G_error_in"
   ]
  },
  {
   "cell_type": "code",
   "execution_count": 11,
   "metadata": {},
   "outputs": [
    {
     "data": {
      "text/plain": [
       "0.002793296089385475"
      ]
     },
     "execution_count": 11,
     "metadata": {},
     "output_type": "execute_result"
    }
   ],
   "source": [
    "\"\"\"\n",
    "P20\n",
    "\"\"\"\n",
    "eout = ada_model.calculate_eout(x_test, y_test)\n",
    "eout"
   ]
  }
 ],
 "metadata": {
  "kernelspec": {
   "display_name": "base",
   "language": "python",
   "name": "python3"
  },
  "language_info": {
   "codemirror_mode": {
    "name": "ipython",
    "version": 3
   },
   "file_extension": ".py",
   "mimetype": "text/x-python",
   "name": "python",
   "nbconvert_exporter": "python",
   "pygments_lexer": "ipython3",
   "version": "3.9.13"
  },
  "orig_nbformat": 4
 },
 "nbformat": 4,
 "nbformat_minor": 2
}
