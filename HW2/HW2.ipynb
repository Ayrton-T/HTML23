{
 "cells": [
  {
   "cell_type": "code",
   "execution_count": 1,
   "metadata": {},
   "outputs": [],
   "source": [
    "import numpy as np\n",
    "from DecisionStump import DecisionStump"
   ]
  },
  {
   "cell_type": "code",
   "execution_count": 2,
   "metadata": {},
   "outputs": [],
   "source": [
    "# dummy data to init Decision Stump when using artificial data\n",
    "dummy_x = 0\n",
    "dummy_y = -1"
   ]
  },
  {
   "cell_type": "code",
   "execution_count": 3,
   "metadata": {},
   "outputs": [
    {
     "name": "stdout",
     "output_type": "stream",
     "text": [
      "0.29388650380312675\n"
     ]
    }
   ],
   "source": [
    "p13_kwargs = {\n",
    "    'tau': 0,\n",
    "    'art_data': True,\n",
    "    'n_init': 10000,\n",
    "    'n': 2\n",
    "}\n",
    "\n",
    "DS_p13 = DecisionStump(**p13_kwargs).fit(dummy_x, dummy_y)\n",
    "ans_p13 = np.mean(DS_p13.ans_1d)\n",
    "print(ans_p13)\n",
    "# print(np.mean(DS_p13.test))"
   ]
  },
  {
   "cell_type": "code",
   "execution_count": 4,
   "metadata": {},
   "outputs": [
    {
     "name": "stdout",
     "output_type": "stream",
     "text": [
      "0.003910929152214343\n"
     ]
    }
   ],
   "source": [
    "p14_kwargs = {\n",
    "    'tau': 0,\n",
    "    'art_data': True,\n",
    "    'n_init': 10000,\n",
    "    'n': 128\n",
    "}\n",
    "\n",
    "DS_p14 = DecisionStump(**p14_kwargs).fit(dummy_x, dummy_y)\n",
    "ans_p14 = np.mean(DS_p14.ans_1d)\n",
    "print(ans_p14)\n",
    "# print(np.mean(DS_p14.test))"
   ]
  },
  {
   "cell_type": "code",
   "execution_count": 5,
   "metadata": {},
   "outputs": [
    {
     "name": "stdout",
     "output_type": "stream",
     "text": [
      "0.3905382425955801\n"
     ]
    }
   ],
   "source": [
    "p15_kwargs = {\n",
    "    'tau': 0.2,\n",
    "    'art_data': True,\n",
    "    'n_init': 10000,\n",
    "    'n': 2\n",
    "}\n",
    "\n",
    "DS_p15 = DecisionStump(**p15_kwargs).fit(dummy_x, dummy_y)\n",
    "ans_p15 = np.mean(DS_p15.ans_1d)\n",
    "print(ans_p15)\n",
    "# print(np.mean(DS_p15.test))"
   ]
  },
  {
   "cell_type": "code",
   "execution_count": 6,
   "metadata": {},
   "outputs": [
    {
     "name": "stdout",
     "output_type": "stream",
     "text": [
      "0.013694312914973472\n"
     ]
    }
   ],
   "source": [
    "p16_kwargs = {\n",
    "    'tau': 0.2,\n",
    "    'art_data': True,\n",
    "    'n_init': 10000,\n",
    "    'n': 128\n",
    "}\n",
    "\n",
    "DS_p16 = DecisionStump(**p16_kwargs).fit(dummy_x, dummy_y)\n",
    "ans_p16 = np.mean(DS_p16.ans_1d)\n",
    "print(ans_p16)\n",
    "# print(np.mean(DS_p16.test))"
   ]
  },
  {
   "cell_type": "code",
   "execution_count": 7,
   "metadata": {},
   "outputs": [
    {
     "name": "stdout",
     "output_type": "stream",
     "text": [
      "(192, 10)\n",
      "(192, 1)\n",
      "(64, 10)\n",
      "(64, 1)\n"
     ]
    }
   ],
   "source": [
    "\"\"\"\n",
    "load data and preprocess\n",
    "\"\"\"\n",
    "# read data\n",
    "with open('hw2_train.dat', 'rb') as f:  \n",
    "    training_data = np.array([np.float64(i.split()) for i in f.readlines()])\n",
    "    \n",
    "# turn x and y into numpy array\n",
    "# x is the input feature vector space and y is the corresponding label\n",
    "x = np.array(training_data[:,0:10])\n",
    "y = np.reshape(np.array(list(map(int, training_data[:,10]))), (len(x), 1))\n",
    "print(x.shape)\n",
    "print(y.shape)\n",
    "\n",
    "N = len(x)\n",
    "\n",
    "with open('hw2_test.dat', 'rb') as f:  \n",
    "    test_data = np.array([np.float64(i.split()) for i in f.readlines()])\n",
    "    \n",
    "# turn x and y into numpy array\n",
    "# x is the input feature vector space and y is the corresponding label\n",
    "x_test = np.array(test_data[:,0:10])\n",
    "y_test = np.reshape(np.array(list(map(int, test_data[:,10]))), (len(x_test), 1))\n",
    "print(x_test.shape)\n",
    "print(y_test.shape)\n",
    "\n",
    "N = len(x)"
   ]
  },
  {
   "cell_type": "code",
   "execution_count": 8,
   "metadata": {},
   "outputs": [],
   "source": [
    "\"\"\"\n",
    "build p17~p20 model\n",
    "\"\"\"\n",
    "real_data_kwargs = {\n",
    "    'art_data': False\n",
    "}\n",
    "DS_remaining_question = DecisionStump(**real_data_kwargs).fit(x, y)"
   ]
  },
  {
   "cell_type": "code",
   "execution_count": 9,
   "metadata": {},
   "outputs": [
    {
     "data": {
      "text/plain": [
       "0.026041666666666668"
      ]
     },
     "execution_count": 9,
     "metadata": {},
     "output_type": "execute_result"
    }
   ],
   "source": [
    "ans_p17 = DS_remaining_question.best_of_best_ein\n",
    "ans_p17"
   ]
  },
  {
   "cell_type": "code",
   "execution_count": 10,
   "metadata": {},
   "outputs": [
    {
     "data": {
      "text/plain": [
       "0.078125"
      ]
     },
     "execution_count": 10,
     "metadata": {},
     "output_type": "execute_result"
    }
   ],
   "source": [
    "best_eout = DS_remaining_question.predict(x_test, y_test, True)[1]\n",
    "ans_p18 = best_eout\n",
    "ans_p18"
   ]
  },
  {
   "cell_type": "code",
   "execution_count": 11,
   "metadata": {},
   "outputs": [
    {
     "data": {
      "text/plain": [
       "0.3020833333333333"
      ]
     },
     "execution_count": 11,
     "metadata": {},
     "output_type": "execute_result"
    }
   ],
   "source": [
    "best_ein = DS_remaining_question.best_of_best_ein\n",
    "worst_ein = DS_remaining_question.worst_of_best_ein\n",
    "worst_eout = DS_remaining_question.predict(x_test, y_test, False)[1]\n",
    "\n",
    "ans_p19 = worst_ein - best_ein\n",
    "ans_p19"
   ]
  },
  {
   "cell_type": "code",
   "execution_count": 12,
   "metadata": {},
   "outputs": [
    {
     "data": {
      "text/plain": [
       "0.34375"
      ]
     },
     "execution_count": 12,
     "metadata": {},
     "output_type": "execute_result"
    }
   ],
   "source": [
    "ans_p20 = worst_eout - best_eout\n",
    "ans_p20"
   ]
  }
 ],
 "metadata": {
  "kernelspec": {
   "display_name": "base",
   "language": "python",
   "name": "python3"
  },
  "language_info": {
   "codemirror_mode": {
    "name": "ipython",
    "version": 3
   },
   "file_extension": ".py",
   "mimetype": "text/x-python",
   "name": "python",
   "nbconvert_exporter": "python",
   "pygments_lexer": "ipython3",
   "version": "3.9.13"
  },
  "orig_nbformat": 4
 },
 "nbformat": 4,
 "nbformat_minor": 2
}
