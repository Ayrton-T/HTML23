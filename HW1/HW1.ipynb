{
 "cells": [
  {
   "cell_type": "code",
   "execution_count": 1,
   "metadata": {},
   "outputs": [],
   "source": [
    "import numpy as np\n",
    "from PLA import PLA"
   ]
  },
  {
   "cell_type": "code",
   "execution_count": 2,
   "metadata": {},
   "outputs": [
    {
     "name": "stdout",
     "output_type": "stream",
     "text": [
      "(256, 10)\n",
      "(256, 1)\n"
     ]
    }
   ],
   "source": [
    "\"\"\"\n",
    "load data and preprocess\n",
    "\"\"\"\n",
    "# read data\n",
    "with open('hw1_train.dat', 'rb') as f:  \n",
    "    data = np.array([np.float64(i.split()) for i in f.readlines()])\n",
    "    \n",
    "# turn x and y into numpy array\n",
    "# x is the input feature vector space and y is the corresponding label\n",
    "x = np.array(data[:,0:10])\n",
    "y = np.reshape(np.array(list(map(int, data[:,10]))), (len(x), 1))\n",
    "print(x.shape)\n",
    "print(y.shape)\n",
    "\n",
    "N = len(x)"
   ]
  },
  {
   "cell_type": "code",
   "execution_count": 3,
   "metadata": {},
   "outputs": [
    {
     "data": {
      "text/plain": [
       "0.01989453125"
      ]
     },
     "execution_count": 3,
     "metadata": {},
     "output_type": "execute_result"
    }
   ],
   "source": [
    "\"\"\"\n",
    "p13\n",
    "\"\"\"\n",
    "p13_kwargs = {\n",
    "    'M': N/2.0,\n",
    "    'n_init': 1000,\n",
    "    'x_0': 1.0,\n",
    "    'scale': 1.0\n",
    "}\n",
    "\n",
    "pla_p13 = PLA(**p13_kwargs)\n",
    "pla_p13 = pla_p13.fit(x, y)\n",
    "Ein_p13 = pla_p13.Ein\n",
    "p13_ans = np.mean(Ein_p13)\n",
    "p13_ans"
   ]
  },
  {
   "cell_type": "code",
   "execution_count": 4,
   "metadata": {},
   "outputs": [
    {
     "data": {
      "text/plain": [
       "0.00019140625"
      ]
     },
     "execution_count": 4,
     "metadata": {},
     "output_type": "execute_result"
    }
   ],
   "source": [
    "\"\"\"\n",
    "p14\n",
    "\"\"\"\n",
    "p14_kwargs = {\n",
    "    'M': 4.0 * N,\n",
    "    'n_init': 1000,\n",
    "    'x_0': 1.0,\n",
    "    'scale': 1.0\n",
    "}\n",
    "\n",
    "pla_p14 = PLA(**p14_kwargs)\n",
    "pla_p14 = pla_p14.fit(x, y)\n",
    "Ein_p14 = pla_p14.Ein\n",
    "p14_ans = np.mean(Ein_p14)\n",
    "p14_ans"
   ]
  },
  {
   "cell_type": "code",
   "execution_count": 5,
   "metadata": {},
   "outputs": [
    {
     "data": {
      "text/plain": [
       "446.5"
      ]
     },
     "execution_count": 5,
     "metadata": {},
     "output_type": "execute_result"
    }
   ],
   "source": [
    "\"\"\"\n",
    "p15\n",
    "\"\"\"\n",
    "p15_kwargs = {\n",
    "    'M': 4.0 * N,\n",
    "    'n_init': 1000,\n",
    "    'x_0': 1.0,\n",
    "    'scale': 1.0\n",
    "}\n",
    "\n",
    "pla_p15 = PLA(**p15_kwargs)\n",
    "pla_p15 = pla_p15.fit(x, y)\n",
    "updates_p15 = pla_p15.updates\n",
    "p15_ans = np.median(updates_p15)\n",
    "p15_ans"
   ]
  },
  {
   "cell_type": "code",
   "execution_count": 6,
   "metadata": {},
   "outputs": [
    {
     "data": {
      "text/plain": [
       "34.0"
      ]
     },
     "execution_count": 6,
     "metadata": {},
     "output_type": "execute_result"
    }
   ],
   "source": [
    "\"\"\"\n",
    "p16\n",
    "\"\"\"\n",
    "p16_kwargs = {\n",
    "    'M': 4.0 * N,\n",
    "    'n_init': 1000,\n",
    "    'x_0': 1.0,\n",
    "    'scale': 1.0\n",
    "}\n",
    "\n",
    "pla_p16 = PLA(**p16_kwargs)\n",
    "pla_p16 = pla_p16.fit(x, y)\n",
    "wpla_p16 = pla_p16.w_pla\n",
    "# take all the w0 from wpla and pick median\n",
    "p16_ans = np.median(wpla_p16[:,0])\n",
    "p16_ans"
   ]
  },
  {
   "cell_type": "code",
   "execution_count": 7,
   "metadata": {},
   "outputs": [
    {
     "data": {
      "text/plain": [
       "444.0"
      ]
     },
     "execution_count": 7,
     "metadata": {},
     "output_type": "execute_result"
    }
   ],
   "source": [
    "\"\"\"\n",
    "p17\n",
    "\"\"\"\n",
    "p17_kwargs = {\n",
    "    'M': 4.0 * N,\n",
    "    'n_init': 1000,\n",
    "    'x_0': 1.0,\n",
    "    'scale': 0.5\n",
    "}\n",
    "\n",
    "pla_p17 = PLA(**p17_kwargs)\n",
    "pla_p17 = pla_p17.fit(x, y)\n",
    "updates_p17 = pla_p17.updates\n",
    "p17_ans = np.median(updates_p17)\n",
    "p17_ans"
   ]
  },
  {
   "cell_type": "code",
   "execution_count": 8,
   "metadata": {},
   "outputs": [
    {
     "data": {
      "text/plain": [
       "448.0"
      ]
     },
     "execution_count": 8,
     "metadata": {},
     "output_type": "execute_result"
    }
   ],
   "source": [
    "\"\"\"\n",
    "p18\n",
    "\"\"\"\n",
    "p18_kwargs = {\n",
    "    'M': 4.0 * N,\n",
    "    'n_init': 1000,\n",
    "    'x_0': 0,\n",
    "    'scale': 1.0\n",
    "}\n",
    "\n",
    "pla_p18 = PLA(**p18_kwargs)\n",
    "pla_p18 = pla_p18.fit(x, y)\n",
    "updates_p18 = pla_p18.updates\n",
    "p18_ans = np.median(updates_p18)\n",
    "p18_ans"
   ]
  },
  {
   "cell_type": "code",
   "execution_count": 9,
   "metadata": {},
   "outputs": [
    {
     "data": {
      "text/plain": [
       "34.0"
      ]
     },
     "execution_count": 9,
     "metadata": {},
     "output_type": "execute_result"
    }
   ],
   "source": [
    "\"\"\"\n",
    "p19\n",
    "\"\"\"\n",
    "p19_kwargs = {\n",
    "    'M': 4.0 * N,\n",
    "    'n_init': 1000,\n",
    "    'x_0': -1.0,\n",
    "    'scale': 1.0\n",
    "}\n",
    "\n",
    "pla_p19 = PLA(**p19_kwargs)\n",
    "pla_p19 = pla_p19.fit(x, y)\n",
    "x_0_w_pla_p19 = pla_p19.x_0_w_pla\n",
    "p19_ans = np.median(x_0_w_pla_p19)\n",
    "p19_ans"
   ]
  },
  {
   "cell_type": "code",
   "execution_count": 10,
   "metadata": {},
   "outputs": [
    {
     "data": {
      "text/plain": [
       "0.44375660000000006"
      ]
     },
     "execution_count": 10,
     "metadata": {},
     "output_type": "execute_result"
    }
   ],
   "source": [
    "\"\"\"\n",
    "p20\n",
    "\"\"\"\n",
    "p20_kwargs = {\n",
    "    'M': 4.0 * N,\n",
    "    'n_init': 1000,\n",
    "    'x_0': 0.1126,\n",
    "    'scale': 1.0\n",
    "}\n",
    "\n",
    "pla_p20 = PLA(**p20_kwargs)\n",
    "pla_p20 = pla_p20.fit(x, y)\n",
    "x_0_w_pla_p20 = pla_p20.x_0_w_pla\n",
    "p20_ans = np.median(x_0_w_pla_p20)\n",
    "p20_ans"
   ]
  }
 ],
 "metadata": {
  "kernelspec": {
   "display_name": "base",
   "language": "python",
   "name": "python3"
  },
  "language_info": {
   "codemirror_mode": {
    "name": "ipython",
    "version": 3
   },
   "file_extension": ".py",
   "mimetype": "text/x-python",
   "name": "python",
   "nbconvert_exporter": "python",
   "pygments_lexer": "ipython3",
   "version": "3.9.13"
  },
  "orig_nbformat": 4
 },
 "nbformat": 4,
 "nbformat_minor": 2
}
